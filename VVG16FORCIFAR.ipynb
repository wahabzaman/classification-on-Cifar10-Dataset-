{
  "cells": [
    {
      "cell_type": "code",
      "execution_count": 1,
      "metadata": {
        "id": "vqMF-KJy1luF"
      },
      "outputs": [],
      "source": [
        "#------------------------------------------------------------------------------\n",
        "# VGG16 ON CIFAR_10\n",
        "#------------------------------------------------------------------------------\n",
        "import numpy as np\n",
        "from tensorflow.keras.applications.vgg16 import VGG16\n",
        "import tensorflow.keras as k\n",
        "from tensorflow.keras.models import Sequential\n",
        "from tensorflow.keras.layers import Dense, Flatten, Dropout\n",
        "from keras.utils.np_utils import to_categorical\n",
        "from tensorflow.keras import optimizers\n",
        "from tensorflow.keras.callbacks import ModelCheckpoint, EarlyStopping, LearningRateScheduler\n",
        "from tensorflow.keras.preprocessing.image import ImageDataGenerator\n",
        "from sklearn.metrics import accuracy_score"
      ]
    },
    {
      "cell_type": "code",
      "execution_count": 2,
      "metadata": {
        "colab": {
          "base_uri": "https://localhost:8080/"
        },
        "id": "Y8Iu9h2K118Y",
        "outputId": "4c20c0cd-05fc-4478-c21a-7d873e55c084"
      },
      "outputs": [
        {
          "output_type": "stream",
          "name": "stdout",
          "text": [
            "Downloading data from https://storage.googleapis.com/tensorflow/keras-applications/vgg16/vgg16_weights_tf_dim_ordering_tf_kernels_notop.h5\n",
            "58889256/58889256 [==============================] - 3s 0us/step\n"
          ]
        }
      ],
      "source": [
        "#------------------------------------------------------------------------------\n",
        "# Using VGG16 model, with weights pre-trained on ImageNet.\n",
        "#------------------------------------------------------------------------------\n",
        "\n",
        "vgg16_model = VGG16(weights='imagenet',\n",
        "                    include_top=False, \n",
        "                    classes=10,\n",
        "                    input_shape=(32,32,3)# input: 32x32 images with 3 channels -> (32, 32, 3) tensors.\n",
        "                   )"
      ]
    },
    {
      "cell_type": "code",
      "execution_count": 3,
      "metadata": {
        "id": "nNctNasZ2B99"
      },
      "outputs": [],
      "source": [
        "#Define the sequential model and add th VGG's layers to it\n",
        "model = Sequential()\n",
        "for layer in vgg16_model.layers:\n",
        "    model.add(layer)"
      ]
    },
    {
      "cell_type": "code",
      "execution_count": 4,
      "metadata": {
        "colab": {
          "base_uri": "https://localhost:8080/"
        },
        "id": "VmdMXxFx2F0n",
        "outputId": "e9c4bab9-4aaa-4cda-e640-d1c668654c87"
      },
      "outputs": [
        {
          "output_type": "stream",
          "name": "stdout",
          "text": [
            "Model: \"sequential\"\n",
            "_________________________________________________________________\n",
            " Layer (type)                Output Shape              Param #   \n",
            "=================================================================\n",
            " block1_conv1 (Conv2D)       (None, 32, 32, 64)        1792      \n",
            "                                                                 \n",
            " block1_conv2 (Conv2D)       (None, 32, 32, 64)        36928     \n",
            "                                                                 \n",
            " block1_pool (MaxPooling2D)  (None, 16, 16, 64)        0         \n",
            "                                                                 \n",
            " block2_conv1 (Conv2D)       (None, 16, 16, 128)       73856     \n",
            "                                                                 \n",
            " block2_conv2 (Conv2D)       (None, 16, 16, 128)       147584    \n",
            "                                                                 \n",
            " block2_pool (MaxPooling2D)  (None, 8, 8, 128)         0         \n",
            "                                                                 \n",
            " block3_conv1 (Conv2D)       (None, 8, 8, 256)         295168    \n",
            "                                                                 \n",
            " block3_conv2 (Conv2D)       (None, 8, 8, 256)         590080    \n",
            "                                                                 \n",
            " block3_conv3 (Conv2D)       (None, 8, 8, 256)         590080    \n",
            "                                                                 \n",
            " block3_pool (MaxPooling2D)  (None, 4, 4, 256)         0         \n",
            "                                                                 \n",
            " block4_conv1 (Conv2D)       (None, 4, 4, 512)         1180160   \n",
            "                                                                 \n",
            " block4_conv2 (Conv2D)       (None, 4, 4, 512)         2359808   \n",
            "                                                                 \n",
            " block4_conv3 (Conv2D)       (None, 4, 4, 512)         2359808   \n",
            "                                                                 \n",
            " block4_pool (MaxPooling2D)  (None, 2, 2, 512)         0         \n",
            "                                                                 \n",
            " block5_conv1 (Conv2D)       (None, 2, 2, 512)         2359808   \n",
            "                                                                 \n",
            " block5_conv2 (Conv2D)       (None, 2, 2, 512)         2359808   \n",
            "                                                                 \n",
            " block5_conv3 (Conv2D)       (None, 2, 2, 512)         2359808   \n",
            "                                                                 \n",
            " block5_pool (MaxPooling2D)  (None, 1, 1, 512)         0         \n",
            "                                                                 \n",
            " flatten (Flatten)           (None, 512)               0         \n",
            "                                                                 \n",
            " hidden1 (Dense)             (None, 512)               262656    \n",
            "                                                                 \n",
            " dropout (Dropout)           (None, 512)               0         \n",
            "                                                                 \n",
            " hidden2 (Dense)             (None, 256)               131328    \n",
            "                                                                 \n",
            " dropout_1 (Dropout)         (None, 256)               0         \n",
            "                                                                 \n",
            " predictions (Dense)         (None, 10)                2570      \n",
            "                                                                 \n",
            "=================================================================\n",
            "Total params: 15,111,242\n",
            "Trainable params: 15,111,242\n",
            "Non-trainable params: 0\n",
            "_________________________________________________________________\n"
          ]
        }
      ],
      "source": [
        "#------------------------------------------------------------------------------\n",
        "# Adding hiddens  and output layer to our model\n",
        "#------------------------------------------------------------------------------\n",
        "\n",
        "from tensorflow.keras.layers import Dense, Flatten, Dropout\n",
        "model.add(Flatten())\n",
        "model.add(Dense(512, activation='relu', name='hidden1'))\n",
        "model.add(Dropout(0.4))\n",
        "model.add(Dense(256, activation='relu', name='hidden2'))\n",
        "model.add(Dropout(0.4))\n",
        "model.add(Dense(10, activation='softmax', name='predictions'))\n",
        "\n",
        "model.summary()"
      ]
    },
    {
      "cell_type": "code",
      "execution_count": 5,
      "metadata": {
        "colab": {
          "base_uri": "https://localhost:8080/"
        },
        "id": "VARPRvu52I2w",
        "outputId": "5511470c-1aca-4bde-a9c7-03f580072c64"
      },
      "outputs": [
        {
          "output_type": "stream",
          "name": "stdout",
          "text": [
            "Downloading data from https://www.cs.toronto.edu/~kriz/cifar-10-python.tar.gz\n",
            "170498071/170498071 [==============================] - 17s 0us/step\n",
            "******************\n",
            "(50000, 32, 32, 3)\n",
            "(50000, 1)\n",
            "(10000, 32, 32, 3)\n",
            "(10000, 1)\n"
          ]
        }
      ],
      "source": [
        "#------------------------------------------------------------------------------\n",
        "#  Loading CIFAR10 data\n",
        "#------------------------------------------------------------------------------\n",
        "\n",
        "(X_train, y_train), (X_test, y_test) = k.datasets.cifar10.load_data()\n",
        "\n",
        "print(\"******************\")\n",
        "print(X_train.shape)\n",
        "print(y_train.shape)\n",
        "print(X_test.shape)\n",
        "print(y_test.shape)"
      ]
    },
    {
      "cell_type": "code",
      "execution_count": 6,
      "metadata": {
        "id": "74YJ5pFG2OMD"
      },
      "outputs": [],
      "source": [
        "# Convert class vectors to binary class matrices using one hot encoding\n",
        "y_train_ohe = to_categorical(y_train, num_classes = 10)\n",
        "y_test_ohe = to_categorical(y_test, num_classes = 10)"
      ]
    },
    {
      "cell_type": "code",
      "execution_count": 7,
      "metadata": {
        "colab": {
          "base_uri": "https://localhost:8080/"
        },
        "id": "gi1JnOVP2UO1",
        "outputId": "6959fd61-7213-4213-d7e4-e28d7f4e62b7"
      },
      "outputs": [
        {
          "output_type": "stream",
          "name": "stdout",
          "text": [
            "******************\n",
            "(50000, 32, 32, 3)\n",
            "(50000, 10)\n",
            "(10000, 32, 32, 3)\n",
            "(10000, 10)\n"
          ]
        }
      ],
      "source": [
        "# Data normalization\n",
        "X_train = X_train.astype('float32')\n",
        "X_test = X_test.astype('float32')\n",
        "X_train  /= 255\n",
        "X_test /= 255\n",
        "\n",
        "print(\"******************\")\n",
        "print(X_train.shape)\n",
        "print(y_train_ohe.shape)\n",
        "print(X_test.shape)\n",
        "print(y_test_ohe.shape)"
      ]
    },
    {
      "cell_type": "code",
      "execution_count": 8,
      "metadata": {
        "colab": {
          "base_uri": "https://localhost:8080/"
        },
        "id": "7rNrpFon2W1f",
        "outputId": "e2987532-3110-4c8a-ad4f-4bf2f9b1391d"
      },
      "outputs": [
        {
          "output_type": "stream",
          "name": "stdout",
          "text": [
            "(10000, 32, 32, 3)\n",
            "(10000, 10)\n"
          ]
        }
      ],
      "source": [
        "X_val = X_train[40000:]\n",
        "y_val = y_train_ohe[40000:]\n",
        "print(X_val.shape)\n",
        "print(y_val.shape)"
      ]
    },
    {
      "cell_type": "code",
      "execution_count": 9,
      "metadata": {
        "colab": {
          "base_uri": "https://localhost:8080/"
        },
        "id": "GuZBL4Ys2bBe",
        "outputId": "259f3292-2eb7-458e-ad8d-b3ae6dd751d1"
      },
      "outputs": [
        {
          "output_type": "stream",
          "name": "stdout",
          "text": [
            "(40000, 32, 32, 3)\n",
            "(40000, 10)\n"
          ]
        }
      ],
      "source": [
        "X_train = X_train[:40000]\n",
        "y_train_ohe = y_train_ohe[:40000]\n",
        "print(X_train.shape)\n",
        "print(y_train_ohe.shape)"
      ]
    },
    {
      "cell_type": "code",
      "execution_count": 14,
      "metadata": {
        "colab": {
          "base_uri": "https://localhost:8080/"
        },
        "id": "1Rcgwthz2dyy",
        "outputId": "347ff885-d351-4846-c531-ecae1ebe680c"
      },
      "outputs": [
        {
          "metadata": {
            "tags": null
          },
          "name": "stdout",
          "output_type": "stream",
          "text": [
            "Epoch 1/50\n"
          ]
        },
        {
          "metadata": {
            "tags": null
          },
          "name": "stderr",
          "output_type": "stream",
          "text": [
            "<ipython-input-14-3a4443be6075>:34: UserWarning: `Model.fit_generator` is deprecated and will be removed in a future version. Please use `Model.fit`, which supports generators.\n",
            "  history = model.fit_generator(\n"
          ]
        },
        {
          "output_type": "stream",
          "name": "stdout",
          "text": [
            "312/312 [==============================] - 29s 92ms/step - loss: 0.7743 - accuracy: 0.7401 - val_loss: 0.6131 - val_accuracy: 0.7951 - lr: 0.0010\n",
            "Epoch 2/50\n",
            "312/312 [==============================] - 28s 90ms/step - loss: 0.7253 - accuracy: 0.7568 - val_loss: 0.5519 - val_accuracy: 0.8147 - lr: 0.0010\n",
            "Epoch 3/50\n",
            "312/312 [==============================] - 28s 90ms/step - loss: 0.6944 - accuracy: 0.7682 - val_loss: 0.5568 - val_accuracy: 0.8127 - lr: 0.0010\n",
            "Epoch 4/50\n",
            "312/312 [==============================] - 31s 98ms/step - loss: 0.6570 - accuracy: 0.7820 - val_loss: 0.5506 - val_accuracy: 0.8118 - lr: 0.0010\n",
            "Epoch 5/50\n",
            "312/312 [==============================] - 28s 91ms/step - loss: 0.6340 - accuracy: 0.7864 - val_loss: 0.4959 - val_accuracy: 0.8319 - lr: 0.0010\n",
            "Epoch 6/50\n",
            "312/312 [==============================] - 29s 92ms/step - loss: 0.6164 - accuracy: 0.7928 - val_loss: 0.4876 - val_accuracy: 0.8336 - lr: 0.0010\n",
            "Epoch 7/50\n",
            "312/312 [==============================] - 28s 89ms/step - loss: 0.5927 - accuracy: 0.8012 - val_loss: 0.5160 - val_accuracy: 0.8276 - lr: 0.0010\n",
            "Epoch 8/50\n",
            "312/312 [==============================] - 31s 98ms/step - loss: 0.5729 - accuracy: 0.8069 - val_loss: 0.4854 - val_accuracy: 0.8395 - lr: 0.0010\n",
            "Epoch 9/50\n",
            "312/312 [==============================] - 31s 98ms/step - loss: 0.5588 - accuracy: 0.8126 - val_loss: 0.5065 - val_accuracy: 0.8305 - lr: 0.0010\n",
            "Epoch 10/50\n",
            "312/312 [==============================] - 28s 91ms/step - loss: 0.5372 - accuracy: 0.8197 - val_loss: 0.4659 - val_accuracy: 0.8437 - lr: 0.0010\n",
            "Epoch 11/50\n",
            "312/312 [==============================] - 32s 101ms/step - loss: 0.5185 - accuracy: 0.8252 - val_loss: 0.4574 - val_accuracy: 0.8466 - lr: 0.0010\n",
            "Epoch 12/50\n",
            "312/312 [==============================] - 31s 99ms/step - loss: 0.5038 - accuracy: 0.8302 - val_loss: 0.4530 - val_accuracy: 0.8488 - lr: 0.0010\n",
            "Epoch 13/50\n",
            "312/312 [==============================] - 29s 91ms/step - loss: 0.4928 - accuracy: 0.8356 - val_loss: 0.4546 - val_accuracy: 0.8492 - lr: 0.0010\n",
            "Epoch 14/50\n",
            "312/312 [==============================] - 30s 97ms/step - loss: 0.4843 - accuracy: 0.8369 - val_loss: 0.4520 - val_accuracy: 0.8457 - lr: 0.0010\n",
            "Epoch 15/50\n",
            "312/312 [==============================] - 28s 91ms/step - loss: 0.4681 - accuracy: 0.8447 - val_loss: 0.4110 - val_accuracy: 0.8617 - lr: 0.0010\n",
            "Epoch 16/50\n",
            "312/312 [==============================] - 28s 90ms/step - loss: 0.4448 - accuracy: 0.8516 - val_loss: 0.4657 - val_accuracy: 0.8455 - lr: 0.0010\n",
            "Epoch 17/50\n",
            "312/312 [==============================] - 29s 92ms/step - loss: 0.4394 - accuracy: 0.8531 - val_loss: 0.4099 - val_accuracy: 0.8624 - lr: 0.0010\n",
            "Epoch 18/50\n",
            "312/312 [==============================] - 28s 91ms/step - loss: 0.4250 - accuracy: 0.8570 - val_loss: 0.4108 - val_accuracy: 0.8627 - lr: 0.0010\n",
            "Epoch 19/50\n",
            "312/312 [==============================] - 28s 90ms/step - loss: 0.4238 - accuracy: 0.8574 - val_loss: 0.4545 - val_accuracy: 0.8535 - lr: 0.0010\n",
            "Epoch 20/50\n",
            "312/312 [==============================] - 28s 91ms/step - loss: 0.4136 - accuracy: 0.8609 - val_loss: 0.3991 - val_accuracy: 0.8668 - lr: 0.0010\n",
            "Epoch 21/50\n",
            "312/312 [==============================] - 28s 90ms/step - loss: 0.3662 - accuracy: 0.8781 - val_loss: 0.4332 - val_accuracy: 0.8589 - lr: 5.0000e-04\n",
            "Epoch 22/50\n",
            "312/312 [==============================] - 28s 91ms/step - loss: 0.3606 - accuracy: 0.8788 - val_loss: 0.3865 - val_accuracy: 0.8728 - lr: 5.0000e-04\n",
            "Epoch 23/50\n",
            "312/312 [==============================] - 31s 100ms/step - loss: 0.3541 - accuracy: 0.8804 - val_loss: 0.3924 - val_accuracy: 0.8726 - lr: 5.0000e-04\n",
            "Epoch 24/50\n",
            "312/312 [==============================] - 30s 97ms/step - loss: 0.3477 - accuracy: 0.8825 - val_loss: 0.3956 - val_accuracy: 0.8725 - lr: 5.0000e-04\n",
            "Epoch 25/50\n",
            "312/312 [==============================] - 29s 91ms/step - loss: 0.3382 - accuracy: 0.8865 - val_loss: 0.3900 - val_accuracy: 0.8750 - lr: 5.0000e-04\n",
            "Epoch 26/50\n",
            "312/312 [==============================] - 28s 90ms/step - loss: 0.3356 - accuracy: 0.8875 - val_loss: 0.3806 - val_accuracy: 0.8748 - lr: 5.0000e-04\n",
            "Epoch 27/50\n",
            "312/312 [==============================] - 28s 88ms/step - loss: 0.3321 - accuracy: 0.8888 - val_loss: 0.3883 - val_accuracy: 0.8723 - lr: 5.0000e-04\n",
            "Epoch 28/50\n",
            "312/312 [==============================] - 28s 90ms/step - loss: 0.3268 - accuracy: 0.8919 - val_loss: 0.3825 - val_accuracy: 0.8760 - lr: 5.0000e-04\n",
            "Epoch 29/50\n",
            "312/312 [==============================] - 29s 93ms/step - loss: 0.3217 - accuracy: 0.8922 - val_loss: 0.3776 - val_accuracy: 0.8765 - lr: 5.0000e-04\n",
            "Epoch 30/50\n",
            "312/312 [==============================] - 28s 91ms/step - loss: 0.3222 - accuracy: 0.8927 - val_loss: 0.3947 - val_accuracy: 0.8757 - lr: 5.0000e-04\n",
            "Epoch 31/50\n",
            "312/312 [==============================] - 28s 91ms/step - loss: 0.3112 - accuracy: 0.8966 - val_loss: 0.3694 - val_accuracy: 0.8799 - lr: 5.0000e-04\n",
            "Epoch 32/50\n",
            "312/312 [==============================] - 28s 91ms/step - loss: 0.3091 - accuracy: 0.8976 - val_loss: 0.3963 - val_accuracy: 0.8720 - lr: 5.0000e-04\n",
            "Epoch 33/50\n",
            "312/312 [==============================] - 29s 91ms/step - loss: 0.3020 - accuracy: 0.8993 - val_loss: 0.3770 - val_accuracy: 0.8801 - lr: 5.0000e-04\n",
            "Epoch 34/50\n",
            "312/312 [==============================] - 28s 91ms/step - loss: 0.2952 - accuracy: 0.9018 - val_loss: 0.3916 - val_accuracy: 0.8768 - lr: 5.0000e-04\n",
            "Epoch 35/50\n",
            "312/312 [==============================] - 31s 100ms/step - loss: 0.2946 - accuracy: 0.9010 - val_loss: 0.3929 - val_accuracy: 0.8729 - lr: 5.0000e-04\n",
            "Epoch 36/50\n",
            "312/312 [==============================] - 28s 91ms/step - loss: 0.2985 - accuracy: 0.9015 - val_loss: 0.4014 - val_accuracy: 0.8731 - lr: 5.0000e-04\n",
            "Epoch 37/50\n",
            "312/312 [==============================] - 28s 90ms/step - loss: 0.2852 - accuracy: 0.9044 - val_loss: 0.4016 - val_accuracy: 0.8733 - lr: 5.0000e-04\n",
            "Epoch 38/50\n",
            "312/312 [==============================] - 28s 91ms/step - loss: 0.2857 - accuracy: 0.9042 - val_loss: 0.3926 - val_accuracy: 0.8755 - lr: 5.0000e-04\n",
            "Epoch 39/50\n",
            "312/312 [==============================] - 28s 90ms/step - loss: 0.2809 - accuracy: 0.9063 - val_loss: 0.3845 - val_accuracy: 0.8782 - lr: 5.0000e-04\n",
            "Epoch 40/50\n",
            "312/312 [==============================] - 28s 90ms/step - loss: 0.2799 - accuracy: 0.9081 - val_loss: 0.4016 - val_accuracy: 0.8740 - lr: 5.0000e-04\n",
            "Epoch 41/50\n",
            "312/312 [==============================] - 29s 93ms/step - loss: 0.2537 - accuracy: 0.9156 - val_loss: 0.3760 - val_accuracy: 0.8808 - lr: 2.5000e-04\n",
            "Epoch 42/50\n",
            "312/312 [==============================] - 31s 98ms/step - loss: 0.2485 - accuracy: 0.9167 - val_loss: 0.3708 - val_accuracy: 0.8823 - lr: 2.5000e-04\n",
            "Epoch 43/50\n",
            "312/312 [==============================] - 31s 99ms/step - loss: 0.2470 - accuracy: 0.9170 - val_loss: 0.3708 - val_accuracy: 0.8827 - lr: 2.5000e-04\n",
            "Epoch 44/50\n",
            "312/312 [==============================] - 30s 97ms/step - loss: 0.2478 - accuracy: 0.9171 - val_loss: 0.3750 - val_accuracy: 0.8826 - lr: 2.5000e-04\n",
            "Epoch 45/50\n",
            "312/312 [==============================] - 28s 90ms/step - loss: 0.2417 - accuracy: 0.9187 - val_loss: 0.3520 - val_accuracy: 0.8899 - lr: 2.5000e-04\n",
            "Epoch 46/50\n",
            "312/312 [==============================] - 29s 92ms/step - loss: 0.2376 - accuracy: 0.9222 - val_loss: 0.3668 - val_accuracy: 0.8848 - lr: 2.5000e-04\n",
            "Epoch 47/50\n",
            "312/312 [==============================] - 28s 89ms/step - loss: 0.2336 - accuracy: 0.9227 - val_loss: 0.3777 - val_accuracy: 0.8838 - lr: 2.5000e-04\n",
            "Epoch 48/50\n",
            "312/312 [==============================] - 28s 90ms/step - loss: 0.2347 - accuracy: 0.9206 - val_loss: 0.3986 - val_accuracy: 0.8797 - lr: 2.5000e-04\n",
            "Epoch 49/50\n",
            "312/312 [==============================] - 30s 97ms/step - loss: 0.2315 - accuracy: 0.9212 - val_loss: 0.4135 - val_accuracy: 0.8774 - lr: 2.5000e-04\n",
            "Epoch 50/50\n",
            "312/312 [==============================] - 31s 100ms/step - loss: 0.2273 - accuracy: 0.9218 - val_loss: 0.3925 - val_accuracy: 0.8802 - lr: 2.5000e-04\n"
          ]
        }
      ],
      "source": [
        "#------------------------------------------------------------------------------\n",
        "# TRAINING THE CNN ON THE TRAIN/VALIDATION DATA\n",
        "#------------------------------------------------------------------------------\n",
        "\n",
        "# initiate SGD optimizer\n",
        "sgd = optimizers.SGD(lr=0.001, momentum=0.9)\n",
        "\n",
        "# For a multi-class classification problem\n",
        "model.compile(loss='categorical_crossentropy',optimizer= sgd,metrics=['accuracy'])\n",
        "\n",
        "\n",
        "def lr_scheduler(epoch):\n",
        "    return 0.001 * (0.5 ** (epoch // 20))\n",
        "reduce_lr = LearningRateScheduler(lr_scheduler)\n",
        "\n",
        "mc = ModelCheckpoint('./weights.h5', monitor='val_accuracy', save_best_only=True, mode='max')\n",
        "\n",
        "\n",
        "# initialize the number of epochs and batch size\n",
        "EPOCHS = 50\n",
        "BS = 128\n",
        "\n",
        "# construct the training image generator for data augmentation\n",
        "aug = ImageDataGenerator(\n",
        "    rotation_range=20, \n",
        "    zoom_range=0.15, \n",
        "    width_shift_range=0.2, \n",
        "    height_shift_range=0.2, \n",
        "    shear_range=0.15,\n",
        "    horizontal_flip=True, \n",
        "    fill_mode=\"nearest\")\n",
        " \n",
        "# train the model\n",
        "history = model.fit_generator(\n",
        "    aug.flow(X_train,y_train_ohe, batch_size=BS),\n",
        "    validation_data=(X_val,y_val),\n",
        "    steps_per_epoch=len(X_train) // BS,\n",
        "    epochs=EPOCHS,\n",
        "    callbacks=[reduce_lr,mc])\n",
        "\n",
        "#We load the best weights saved by the ModelCheckpoint\n",
        "model.load_weights('./weights.h5')\n"
      ]
    },
    {
      "cell_type": "code",
      "execution_count": 15,
      "metadata": {
        "id": "xM3dRzwM2tGd",
        "colab": {
          "base_uri": "https://localhost:8080/"
        },
        "outputId": "ca469141-26b0-4451-d43b-52038c08b4ec"
      },
      "outputs": [
        {
          "output_type": "stream",
          "name": "stderr",
          "text": [
            "<ipython-input-15-a5a972341de3>:1: UserWarning: `Model.evaluate_generator` is deprecated and will be removed in a future version. Please use `Model.evaluate`, which supports generators.\n",
            "  train_loss, train_accuracy = model.evaluate_generator(aug.flow(X_train,y_train_ohe, batch_size=BS), 156)\n"
          ]
        },
        {
          "output_type": "stream",
          "name": "stdout",
          "text": [
            "Training loss: 0.20150186121463776\n",
            "Training accuracy: 0.9306890964508057\n"
          ]
        }
      ],
      "source": [
        "train_loss, train_accuracy = model.evaluate_generator(aug.flow(X_train,y_train_ohe, batch_size=BS), 156)\n",
        "print('Training loss: {}\\nTraining accuracy: {}'.format(train_loss, train_accuracy))"
      ]
    },
    {
      "cell_type": "code",
      "source": [
        "val_loss, val_accuracy = model.evaluate(X_val, y_val)\n",
        "print('Validation loss: {}\\nValidation accuracy: {}'.format(val_loss, val_accuracy))"
      ],
      "metadata": {
        "colab": {
          "base_uri": "https://localhost:8080/"
        },
        "id": "Vlfuq4msNeVu",
        "outputId": "dfb70f8b-2554-4f62-8e6d-46df555f96a7"
      },
      "execution_count": 16,
      "outputs": [
        {
          "output_type": "stream",
          "name": "stdout",
          "text": [
            "313/313 [==============================] - 3s 10ms/step - loss: 0.3520 - accuracy: 0.8899\n",
            "Validation loss: 0.3519516587257385\n",
            "Validation accuracy: 0.8899000287055969\n"
          ]
        }
      ]
    },
    {
      "cell_type": "code",
      "source": [
        "test_loss, test_accuracy = model.evaluate(X_test,y_test_ohe,)\n",
        "print('Testing loss: {}\\nTesting accuracy: {}'.format(test_loss, test_accuracy))"
      ],
      "metadata": {
        "colab": {
          "base_uri": "https://localhost:8080/"
        },
        "id": "ON5wa5bXNms6",
        "outputId": "b5bfd224-fb94-4514-f6d6-6751dd6e2141"
      },
      "execution_count": 17,
      "outputs": [
        {
          "output_type": "stream",
          "name": "stdout",
          "text": [
            "313/313 [==============================] - 3s 9ms/step - loss: 0.3707 - accuracy: 0.8865\n",
            "Testing loss: 0.3707200884819031\n",
            "Testing accuracy: 0.8865000009536743\n"
          ]
        }
      ]
    },
    {
      "cell_type": "code",
      "source": [],
      "metadata": {
        "id": "N_3K9X_wNs3r"
      },
      "execution_count": null,
      "outputs": []
    }
  ],
  "metadata": {
    "accelerator": "GPU",
    "colab": {
      "provenance": []
    },
    "gpuClass": "standard",
    "kernelspec": {
      "display_name": "Python 3",
      "name": "python3"
    },
    "language_info": {
      "name": "python"
    }
  },
  "nbformat": 4,
  "nbformat_minor": 0
}